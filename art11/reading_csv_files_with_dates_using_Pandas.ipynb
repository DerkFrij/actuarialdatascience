{
 "cells": [
  {
   "cell_type": "markdown",
   "metadata": {},
   "source": [
    "# Reading CSV files with dates using Pandas\n",
    "Usecase:\n",
    "Reading comma seperated files containing dates can be a bit tricky. This is because dates do not come in a standardized format. For example, each of these expressions reflect this year's Independence Day:\n",
    "\n",
    "See Excel sheet for 12 common formats"
   ]
  },
  {
   "cell_type": "code",
   "execution_count": 2,
   "metadata": {},
   "outputs": [],
   "source": [
    "import pandas as pd"
   ]
  },
  {
   "cell_type": "code",
   "execution_count": 3,
   "metadata": {},
   "outputs": [],
   "source": [
    "def check_date_parsing(single_line_df):\n",
    "    \"\"\" Return string confirming date was parsed correctly.\n",
    "    \"\"\"\n",
    "    record = df.to_dict(orient='records')[0]  # single line df to dict\n",
    "    print(record)\n",
    "    msg = \"{name} from {country} was born on day {birthdate.day} of month {birthdate.month} in the year {birthdate.year}\"\n",
    "    return msg.format(**record)"
   ]
  },
  {
   "cell_type": "markdown",
   "metadata": {},
   "source": [
    "# YMD formats\n",
    "2017-07-04 | 2017.07.4 | 20170704"
   ]
  },
  {
   "cell_type": "code",
   "execution_count": 6,
   "metadata": {},
   "outputs": [
    {
     "name": "stdout",
     "output_type": "stream",
     "text": [
      "{'name': 'Ha-joon', 'birthdate': Timestamp('2017-07-04 00:00:00'), 'country': 'South Korea (ISO 8601)'}\n",
      "Ha-joon from South Korea (ISO 8601) was born on day 4 of month 7 in the year 2017\n",
      "{'name': 'Attila', 'birthdate': Timestamp('2017-07-04 00:00:00'), 'country': 'Hungary'}\n",
      "Attila from Hungary was born on day 4 of month 7 in the year 2017\n",
      "{'name': 'Reyansh', 'birthdate': Timestamp('2017-07-04 00:00:00'), 'country': 'Inda'}\n",
      "Reyansh from Inda was born on day 4 of month 7 in the year 2017\n"
     ]
    }
   ],
   "source": [
    "# Ha-joon: 2017-07-04\n",
    "df = pd.read_csv(\"/home/pieter/Desktop/csv_samples/ha-joon.txt\", parse_dates=['birthdate'])\n",
    "print(check_date_parsing(df))\n",
    "\n",
    "# Attila: 2017.07.4\n",
    "df = pd.read_csv(\"/home/pieter/Desktop/csv_samples/attila.txt\", parse_dates=['birthdate'])\n",
    "print(check_date_parsing(df))\n",
    "\n",
    "# Reyansh: 20170704\n",
    "df = pd.read_csv(\"/home/pieter/Desktop/csv_samples/reyansh.txt\", parse_dates=['birthdate'])\n",
    "print(check_date_parsing(df))"
   ]
  },
  {
   "cell_type": "markdown",
   "metadata": {},
   "source": [
    "# MDY formats\n",
    "7/4/2017 | 7/4/17"
   ]
  },
  {
   "cell_type": "code",
   "execution_count": 8,
   "metadata": {},
   "outputs": [
    {
     "name": "stdout",
     "output_type": "stream",
     "text": [
      "{'name': 'James', 'birthdate': Timestamp('2017-07-04 00:00:00'), 'country': 'United States'}\n",
      "James from United States was born on day 4 of month 7 in the year 2017\n",
      "{'name': 'Emma', 'birthdate': Timestamp('2017-07-04 00:00:00'), 'country': 'Canada '}\n",
      "Emma from Canada  was born on day 4 of month 7 in the year 2017\n"
     ]
    }
   ],
   "source": [
    "# James: 7/4/2017\n",
    "df = pd.read_csv(\"/home/pieter/Desktop/csv_samples/james.txt\", parse_dates=['birthdate'])\n",
    "print(check_date_parsing(df))\n",
    "\n",
    "# Emma: 7/4/17\n",
    "df = pd.read_csv(\"/home/pieter/Desktop/csv_samples/emma.txt\", parse_dates=['birthdate'])\n",
    "print(check_date_parsing(df))"
   ]
  },
  {
   "cell_type": "markdown",
   "metadata": {},
   "source": [
    "# DMY formats\n",
    "04-07-2017 | 04.07.2017 | 04072017 "
   ]
  },
  {
   "cell_type": "code",
   "execution_count": 9,
   "metadata": {},
   "outputs": [
    {
     "name": "stdout",
     "output_type": "stream",
     "text": [
      "{'name': 'Lotte', 'birthdate': Timestamp('2017-07-04 00:00:00'), 'country': 'Netherlands'}\n",
      "Lotte from Netherlands was born on day 4 of month 7 in the year 2017\n",
      "{'name': 'Hasan', 'birthdate': Timestamp('2017-07-04 00:00:00'), 'country': 'Turkey'}\n",
      "Hasan from Turkey was born on day 4 of month 7 in the year 2017\n",
      "{'name': 'Magnus', 'birthdate': Timestamp('2017-07-04 00:00:00'), 'country': 'Norway'}\n",
      "Magnus from Norway was born on day 4 of month 7 in the year 2017\n"
     ]
    }
   ],
   "source": [
    "# Lotte: 04-07-2017\n",
    "df = pd.read_csv(\"/home/pieter/Desktop/csv_samples/lotte.txt\", parse_dates=['birthdate'], dayfirst=True)\n",
    "print(check_date_parsing(df))\n",
    "\n",
    "# Hassan: 04.07.2017\n",
    "df = pd.read_csv(\"/home/pieter/Desktop/csv_samples/hassan.txt\", parse_dates=['birthdate'], dayfirst=True)\n",
    "print(check_date_parsing(df))\n",
    "\n",
    "# Magnus: 04072017\n",
    "dateparse = lambda x: pd.datetime.strptime(x, '%d%m%Y')\n",
    "df = pd.read_csv(\"/home/pieter/Desktop/csv_samples/magnus.txt\", parse_dates=['birthdate'], date_parser=dateparse)\n",
    "print(check_date_parsing(df))"
   ]
  },
  {
   "cell_type": "markdown",
   "metadata": {},
   "source": [
    "# Long formats\n"
   ]
  },
  {
   "cell_type": "code",
   "execution_count": 11,
   "metadata": {},
   "outputs": [
    {
     "name": "stdout",
     "output_type": "stream",
     "text": [
      "{'name': 'Amber', 'birthdate': Timestamp('2017-07-04 00:00:00'), 'country': 'United States'}\n",
      "Amber from United States was born on day 4 of month 7 in the year 2017\n",
      "{'name': 'John', 'birthdate': Timestamp('2017-07-04 00:00:00'), 'country': 'United States'}\n",
      "John from United States was born on day 4 of month 7 in the year 2017\n",
      "{'name': 'Juan', 'birthdate': Timestamp('2017-07-04 00:00:00'), 'country': 'Chile'}\n",
      "Juan from Chile was born on day 4 of month 7 in the year 2017\n",
      "{'name': 'James', 'birthdate': Timestamp('2017-07-04 11:45:00'), 'country': 'France'}\n",
      "James from France was born on day 4 of month 7 in the year 2017\n",
      "{'name': 'Kati', 'birthdate': Timestamp('2017-07-04 00:00:00'), 'country': 'Finland'}\n",
      "Kati from Finland was born on day 4 of month 7 in the year 2017\n",
      "{'name': 'Thomas', 'birthdate': Timestamp('2017-07-04 00:00:00'), 'country': 'Netherlands'}\n",
      "Thomas from Netherlands was born on day 4 of month 7 in the year 2017\n"
     ]
    }
   ],
   "source": [
    "import dateparser\n",
    "\n",
    "# Amber: July 4, 2017\n",
    "df = pd.read_csv(\"/home/pieter/Desktop/csv_samples/amber.txt\", sep=';', parse_dates=['birthdate'])\n",
    "print(check_date_parsing(df))\n",
    "\n",
    "# John: 4 July 2017\n",
    "df = pd.read_csv(\"/home/pieter/Desktop/csv_samples/john.txt\", parse_dates=['birthdate'])\n",
    "print(check_date_parsing(df))\n",
    "\n",
    "# Carlos: 4 julio 2017\n",
    "df = pd.read_csv(\"/home/pieter/Desktop/csv_samples/carlos.txt\", parse_dates=['birthdate'], date_parser=dateparser.parse)\n",
    "print(check_date_parsing(df))\n",
    "\n",
    "# Kati: 4. heinäkuuta 2017\n",
    "df = pd.read_csv(\"/home/pieter/Desktop/csv_samples/kati.txt\", parse_dates=['birthdate'], date_parser=dateparser.parse)\n",
    "print(check_date_parsing(df))"
   ]
  },
  {
   "cell_type": "markdown",
   "metadata": {},
   "source": [
    "# Long month formats with timestamp\n",
    "4 Juillet 2017 à 11:45"
   ]
  },
  {
   "cell_type": "code",
   "execution_count": 13,
   "metadata": {},
   "outputs": [
    {
     "name": "stdout",
     "output_type": "stream",
     "text": [
      "{'name': 'James', 'birthdate': Timestamp('2017-07-04 11:45:00'), 'country': 'France'}\n",
      "James from France was born on day 4 of month 7 in the year 2017\n",
      "{'name': 'Thomas', 'birthdate': Timestamp('2017-07-04 11:45:00'), 'country': 'Netherlands'}\n",
      "Thomas from Netherlands was born on day 4 of month 7 in the year 2017\n"
     ]
    }
   ],
   "source": [
    "# Jules: 4 Juillet 2017 à 11:45\n",
    "df = pd.read_csv(\"/home/pieter/Desktop/csv_samples/jules.txt\", parse_dates=['birthdate'], date_parser=dateparser.parse)\n",
    "print(check_date_parsing(df))\n",
    "\n",
    "# Thomas: 4 juli 2017\n",
    "df = pd.read_csv(\"/home/pieter/Desktop/csv_samples/thomas.txt\", parse_dates=['birthdate'], date_parser=dateparser.parse)\n",
    "print(check_date_parsing(df))"
   ]
  },
  {
   "cell_type": "code",
   "execution_count": null,
   "metadata": {},
   "outputs": [],
   "source": []
  }
 ],
 "metadata": {
  "kernelspec": {
   "display_name": "Python 3",
   "language": "python",
   "name": "python3"
  },
  "language_info": {
   "codemirror_mode": {
    "name": "ipython",
    "version": 3
   },
   "file_extension": ".py",
   "mimetype": "text/x-python",
   "name": "python",
   "nbconvert_exporter": "python",
   "pygments_lexer": "ipython3",
   "version": "3.5.2"
  }
 },
 "nbformat": 4,
 "nbformat_minor": 2
}
